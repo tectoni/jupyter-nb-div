{
 "cells": [
  {
   "cell_type": "markdown",
   "id": "194745de",
   "metadata": {},
   "source": [
    "### Interactive G-x Diagram for ideal/regular solution model\n",
    "The interactive diagram shows the principal relations between Free Energy, Temperature and energy parameter w. Note that for higher values of w the solid solution unmixes and a solvus appears."
   ]
  },
  {
   "cell_type": "code",
   "execution_count": 8,
   "id": "f2b88e0e",
   "metadata": {},
   "outputs": [
    {
     "data": {
      "application/vnd.jupyter.widget-view+json": {
       "model_id": "cb3de99d33bf470cac8a4d3e4db5fe8e",
       "version_major": 2,
       "version_minor": 0
      },
      "text/plain": [
       "interactive(children=(FloatSlider(value=10.0, description='w', max=20.0), IntSlider(value=600, description='T'…"
      ]
     },
     "metadata": {},
     "output_type": "display_data"
    }
   ],
   "source": [
    "from ipywidgets import interactive\n",
    "import matplotlib.pyplot as plt\n",
    "import numpy as np\n",
    "R = 0.00831448     # kJ/K\n",
    "def f(w, T):\n",
    "    plt.figure(2)\n",
    "    x = np.linspace(0.00001, 0.99999, num=100)\n",
    "    G = R*T*(x*np.log(x)+(1-x)*np.log(1-x))+w*x*(1-x)\n",
    "    plt.plot(x, G)\n",
    "    plt.ylim(-5, 0)\n",
    "    plt.show()\n",
    "\n",
    "interactive_plot = interactive(f, w=(0.0, 20.0), T=(400, 800, 10))\n",
    "output = interactive_plot.children[-1]\n",
    "output.layout.height = '350px'\n",
    "interactive_plot"
   ]
  },
  {
   "cell_type": "code",
   "execution_count": null,
   "id": "f76c1d9a",
   "metadata": {},
   "outputs": [],
   "source": []
  }
 ],
 "metadata": {
  "kernelspec": {
   "display_name": "Python 3",
   "language": "python",
   "name": "python3"
  },
  "language_info": {
   "codemirror_mode": {
    "name": "ipython",
    "version": 3
   },
   "file_extension": ".py",
   "mimetype": "text/x-python",
   "name": "python",
   "nbconvert_exporter": "python",
   "pygments_lexer": "ipython3",
   "version": "3.8.12"
  }
 },
 "nbformat": 4,
 "nbformat_minor": 5
}
